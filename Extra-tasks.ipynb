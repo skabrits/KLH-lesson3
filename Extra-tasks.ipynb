{
 "cells": [
  {
   "cell_type": "markdown",
   "id": "851e638c",
   "metadata": {},
   "source": [
    "# Посильные задачи повышенной сложности (пзпс)\n",
    "\n",
    "### Разбаловка\n",
    "\n",
    "Рядом с каждой задачей написано сколько плюсиков за задачу получает команда. Одна команда за 1 задач может получить плюсики не более 1 раза."
   ]
  },
  {
   "cell_type": "markdown",
   "id": "a4df89b7",
   "metadata": {},
   "source": [
    "## Задачи"
   ]
  },
  {
   "cell_type": "markdown",
   "id": "8db90ef1",
   "metadata": {},
   "source": [
    "### 1. Водоворот (+)"
   ]
  },
  {
   "cell_type": "markdown",
   "id": "470946f3",
   "metadata": {},
   "source": [
    "Напишите программу, которая принимает на вход число n, m, координаты точки и направление генерации и генерирует массив-спиральку размера nxm из указанной точки.\n",
    "\n",
    "Пример:\n",
    "\n",
    "| Вход | Выход |\n",
    "| :----: | :-----: |\n",
    "| 5 5 0 0 right-down | <table><tbody><tr><td>1</td><td>2</td><td>3</td><td>4</td><td>5</td></tr><tr><td>16</td><td>17</td><td>18</td><td>19</td><td>6</td></tr><tr><td>15</td><td>24</td><td>25</td><td>20</td><td>7</td></tr><tr><td>14</td><td>23</td><td>22</td><td>21</td><td>8</td></tr><tr><td>13</td><td>12</td><td>11</td><td>10</td><td>9</td></tr></tbody></table> |\n",
    "| 3 3 0 0 left-up | <table><tbody><tr><td>3</td><td>4</td><td>5</td></tr><tr><td>2</td><td>1</td><td>6</td></tr><tr><td>9</td><td>8</td><td>7</td></tr></tbody></table> |"
   ]
  },
  {
   "cell_type": "markdown",
   "id": "30edfa7a",
   "metadata": {},
   "source": [
    "### 2. Echo (+++)"
   ]
  },
  {
   "cell_type": "markdown",
   "id": "e9d3b2f7",
   "metadata": {},
   "source": [
    "Напишите на питоне чат по локальной сети (echo server)."
   ]
  },
  {
   "cell_type": "markdown",
   "id": "e92edcb6",
   "metadata": {},
   "source": [
    "### 3. Крестики-нолики на торе с гравитацией (+++)"
   ]
  },
  {
   "cell_type": "markdown",
   "id": "3e133fd2",
   "metadata": {},
   "source": [
    "Напишите на питоне крестики-нолики на торе с гравитацией 5х6.\n",
    "\n",
    "Пример:\n",
    "\n",
    "<center>&#8595;</center>\n",
    "    \n",
    "|     |     |    |     |     |     |\n",
    "| --- | --- | --- | --- | --- | --- |\n",
    "|     |     |  <s>x</s>  |     |     |     |\n",
    "|     |  <s>x</s>  |  o  |     |     |     |\n",
    "|  <s>x</s>  |  o  |  o  |     |     |     |\n",
    "|  o  |  x  |  x  |     |     |  <s>x</s>  |\n",
    "|  x  |  o  |  o  |     |  <s>x</s>  |  o  |\n",
    "    \n",
    "[Дополнительная информация](https://dzen.ru/a/XoGv6GDyqjWBJeOT)"
   ]
  },
  {
   "cell_type": "markdown",
   "id": "77d929c0",
   "metadata": {},
   "source": [
    "###  Flappy Bird (+++)"
   ]
  },
  {
   "cell_type": "markdown",
   "id": "4810612d",
   "metadata": {},
   "source": [
    "Реализуйте Flappy Bird.\n",
    "\n",
    "[Дополнительная информация](https://ru.wikipedia.org/wiki/Flappy_Bird#%D0%98%D0%B3%D1%80%D0%BE%D0%B2%D0%BE%D0%B9_%D0%BF%D1%80%D0%BE%D1%86%D0%B5%D1%81%D1%81)"
   ]
  },
  {
   "cell_type": "markdown",
   "id": "f571bd49",
   "metadata": {},
   "source": [
    "### 5. HighLight (++++)"
   ]
  },
  {
   "cell_type": "markdown",
   "id": "20239940",
   "metadata": {},
   "source": [
    "Создайте программу, выделяющую 5 наиболее основных цветов на картинке.\n",
    "\n",
    "Пример:\n",
    "\n",
    "![Colors](download.jpeg)"
   ]
  },
  {
   "cell_type": "markdown",
   "id": "2870910c",
   "metadata": {},
   "source": [
    "### 4. PacMan (+++++)"
   ]
  },
  {
   "cell_type": "markdown",
   "id": "3ddfe223",
   "metadata": {},
   "source": [
    "Реализуйте классического Pac-Man с ИИ (можно добавить только одно приведение и не добавлять бонусы).\n",
    "\n",
    "[Дополнительная информация](https://ru.wikipedia.org/wiki/Pac-Man#%D0%98%D0%B3%D1%80%D0%BE%D0%B2%D0%BE%D0%B9_%D0%BF%D1%80%D0%BE%D1%86%D0%B5%D1%81%D1%81)"
   ]
  },
  {
   "cell_type": "markdown",
   "id": "b1a0e492",
   "metadata": {},
   "source": [
    "### 6. Барсик (+++++++)"
   ]
  },
  {
   "cell_type": "markdown",
   "id": "01d9fb5e",
   "metadata": {},
   "source": [
    "Запрограммируйте 2D симуляцию n молекул идеального газа в коробке и реализуйте возможность программно считать температуру и давление."
   ]
  }
 ],
 "metadata": {
  "kernelspec": {
   "display_name": "Python 3 (ipykernel)",
   "language": "python",
   "name": "python3"
  },
  "language_info": {
   "codemirror_mode": {
    "name": "ipython",
    "version": 3
   },
   "file_extension": ".py",
   "mimetype": "text/x-python",
   "name": "python",
   "nbconvert_exporter": "python",
   "pygments_lexer": "ipython3",
   "version": "3.7.9"
  }
 },
 "nbformat": 4,
 "nbformat_minor": 5
}
