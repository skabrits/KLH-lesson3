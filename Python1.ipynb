{
 "cells": [
  {
   "cell_type": "markdown",
   "id": "3070147f",
   "metadata": {},
   "source": [
    "# Ранбук по теме Python p1\n",
    "\n",
    "### Дисклеймер"
   ]
  },
  {
   "cell_type": "code",
   "execution_count": null,
   "id": "6a6e55f6",
   "metadata": {},
   "outputs": [],
   "source": [
    "print(\"Hello world!\")"
   ]
  },
  {
   "cell_type": "markdown",
   "id": "f35fcf75",
   "metadata": {},
   "source": [
    "## База Python"
   ]
  },
  {
   "cell_type": "markdown",
   "id": "5f2533e9",
   "metadata": {},
   "source": [
    "### Переменные\n",
    "\n",
    "Python динамически типизируемый язык. Однако, это не значит что типов в нём нет. Просто переменная служит \"табличкой\", которая может указывать на данные любого типа."
   ]
  },
  {
   "cell_type": "code",
   "execution_count": null,
   "id": "30dbab84",
   "metadata": {
    "scrolled": true
   },
   "outputs": [],
   "source": [
    "a = 1\n",
    "b = 2\n",
    "\n",
    "print((a + b) % b - b ** b /(a + b))  # % -- деление с остатком по модулю, ** -- возведение в степень"
   ]
  },
  {
   "cell_type": "markdown",
   "id": "4d980104",
   "metadata": {},
   "source": [
    "Любителям С++, обратите внимание, `i++` &ndash; не работает, в питоне пишут `i+=1`, чтобы не надо было вспоминать, чем `i++` отличается от `++i` (кстати, кто помнит чем?)!"
   ]
  },
  {
   "cell_type": "code",
   "execution_count": null,
   "id": "a046f7d9",
   "metadata": {
    "scrolled": true
   },
   "outputs": [],
   "source": [
    "print(10//3)\n",
    "print(10/3)\n",
    "a = 1\n",
    "a += 1\n",
    "a *= 2\n",
    "a %= 3\n",
    "a **= 10\n",
    "print(a)"
   ]
  },
  {
   "cell_type": "code",
   "execution_count": null,
   "id": "4b97af85",
   "metadata": {},
   "outputs": [],
   "source": [
    "a = 1\n",
    "b = 2\n",
    "a, b = b, a    # засчёт кортежей можно проворачивать трюки\n",
    "\n",
    "print(a)\n",
    "print(b)\n",
    "\n",
    "c = (a,b,1,2)  # а это собственно кортеж, он как массив, только неизменяемый\n",
    "\n",
    "print(c)"
   ]
  },
  {
   "cell_type": "markdown",
   "id": "e8b9b930",
   "metadata": {},
   "source": [
    "А так форматируются строки:"
   ]
  },
  {
   "cell_type": "code",
   "execution_count": null,
   "id": "6be031d6",
   "metadata": {},
   "outputs": [],
   "source": [
    "my_str = \"This is a number %d\\nThis is a float with 2 digits %.2f\\nAnd this is a string %s\" % (13, 3.1415, \"STR\")\n",
    "# обратите внимание: для всего кроме классов и констант, в питоне используется snake_case конвенция\n",
    "print(my_str)"
   ]
  },
  {
   "cell_type": "markdown",
   "id": "1f3cb385",
   "metadata": {},
   "source": [
    "Ежели всё ж таки надобно конвертировать текст в тип, так тоже можно. Кстати, `input` поможет этот текст получить."
   ]
  },
  {
   "cell_type": "code",
   "execution_count": null,
   "id": "8e5b058f",
   "metadata": {},
   "outputs": [],
   "source": [
    "a = input(\"Введите целое число: \")\n",
    "print(10 + int(a))\n",
    "print(\"Это a: \" + str(a))  # конкатинация строк"
   ]
  },
  {
   "cell_type": "markdown",
   "id": "add15056",
   "metadata": {},
   "source": [
    "### Библиотеки\n",
    "\n",
    "Для тяжёлой артилерии, можно подключить внешние библиотеки, в которых есть много полезного:"
   ]
  },
  {
   "cell_type": "code",
   "execution_count": null,
   "id": "751bca1d",
   "metadata": {},
   "outputs": [],
   "source": [
    "import math                # импортирует библиотеку math\n",
    "import math as mt          # импортирует библиотеку math, меняя её имя на mt\n",
    "from math import pi as PI  # импортирует константу pi из библиотеки math и даёт ей имя PI\n",
    "from math import *         # импортирует всё из библиотеки math, позволяя обращаться напрямую, без math.\n",
    "                           # последнее используйте с большой аккуратностью: вы рискуете вызвать конфликт, если в\n",
    "                           # двух библиотеках окажутся объекты с одинаковыми названиями\n",
    "\n",
    "print(math.pi)\n",
    "print(mt.pi)\n",
    "print(PI)\n",
    "print(sin(pi))"
   ]
  },
  {
   "cell_type": "markdown",
   "id": "141581c5",
   "metadata": {},
   "source": [
    "К слову, вот так в питоне выглядит массив, но подробнее об этом будет дальше."
   ]
  },
  {
   "cell_type": "code",
   "execution_count": null,
   "id": "8ac60e12",
   "metadata": {},
   "outputs": [],
   "source": [
    "a = [1,2,3,5,6]\n",
    "print(a)"
   ]
  },
  {
   "cell_type": "markdown",
   "id": "a08414f5",
   "metadata": {},
   "source": [
    "Ну и для интереса &ndash; добавим рандом."
   ]
  },
  {
   "cell_type": "code",
   "execution_count": null,
   "id": "2cba1372",
   "metadata": {},
   "outputs": [],
   "source": [
    "import random as rnd\n",
    "\n",
    "rnd.seed(152)  # задаёт сид генерации (гарантирует воспроизводимость результатов рандомной генерации)\n",
    "\n",
    "print(rnd.randint(0, 10))                                              # случайней целое между, включая границы\n",
    "print(rnd.random())                                                    # случайное от 0 до 1\n",
    "\n",
    "x = [1,2,3,5,6,7,8,9,10]\n",
    "print(rnd.choice(x))                                                   # случайный выбор элемента массива\n",
    "rnd.shuffle(x)                                                         # перемешиваем массив\n",
    "print(x)\n",
    "print(rnd.choices([\"I\", \"love\", \"KLH\"], weights = [8, 1, 1], k = 10))  # генерация массива из вариантов с весами"
   ]
  },
  {
   "cell_type": "markdown",
   "id": "cba68d01",
   "metadata": {},
   "source": [
    "### Циклы и операторы\n",
    "\n",
    "Куда ж без предикатов, и тут они тоже есть!"
   ]
  },
  {
   "cell_type": "code",
   "execution_count": null,
   "id": "cd17a9d1",
   "metadata": {},
   "outputs": [],
   "source": [
    "a = int(input(\"Введите число большее 10: \"))\n",
    "if a > 10:  # обратите внимания, в python функцию {} из C++ выполняют отступы, то есть кусок кода, относящийся к if\n",
    "            # начинается после двоеточия и кончается там, где кончаются отступы\n",
    "    print(\"Молодец!\")\n",
    "elif a == 10:\n",
    "    print(\"Было близко, НЕН x_x\")\n",
    "else:\n",
    "    print(\"НФН или НОН?\")"
   ]
  },
  {
   "cell_type": "markdown",
   "id": "2c4840c2",
   "metadata": {},
   "source": [
    "Опять же, для любителей плюсов: switch/case тут нет &ndash; вместо них elifы. Bool тип представлен ключевыми словами `True` и `False`. Ещё \"фишка питона\":"
   ]
  },
  {
   "cell_type": "code",
   "execution_count": null,
   "id": "1d6f5df0",
   "metadata": {},
   "outputs": [],
   "source": [
    "a = 10\n",
    "print(5 <= a <= 11)\n",
    "print(5 <= a and a <= 11)\n",
    "print(not(5 >= a or a >= 11))"
   ]
  },
  {
   "cell_type": "markdown",
   "id": "13ea88d7",
   "metadata": {},
   "source": [
    "И куда же без циклов?"
   ]
  },
  {
   "cell_type": "code",
   "execution_count": null,
   "id": "1c0fb888",
   "metadata": {},
   "outputs": [],
   "source": [
    "a = int(input(\"Введите целое число: \"))\n",
    "a_was = []                                      # пустой массив\n",
    "while True:\n",
    "    a = a / 2 if a % 2 == 0 else a * 3 + 1  # оказывается в питоне тоже есть тернарные операторы! если условие верно\n",
    "                                            # возвращает то, что до if, иначе то, что после else\n",
    "    if a in a_was:\n",
    "        break                               # выходит из цикла\n",
    "    else:\n",
    "        a_was.append(a)                     # добавляем a в массив бывших\n",
    "        continue                            # перепрыгивает на следующую итерацию цикла, пропуская код, идущий после\n",
    "    print(\"People writing songs that voices never shared...\")\n",
    "print(a_was)"
   ]
  },
  {
   "cell_type": "markdown",
   "id": "9fb66303",
   "metadata": {},
   "source": [
    "Цикл for в python и bash очень похожи: ходят слухи, что освоившие в совершенстве bash открывают в себе суперсилу понимать работу цикла for в python."
   ]
  },
  {
   "cell_type": "code",
   "execution_count": null,
   "id": "faea7522",
   "metadata": {},
   "outputs": [],
   "source": [
    "a = [1,2,3,4,5,6,7,8,9,10]\n",
    "\n",
    "\n",
    "for i in a:\n",
    "    print(i, end=\" \")    # дабы вместо \\n в конце строчки ставился пробел\n",
    "    \n",
    "print()\n",
    "    \n",
    "for i in range(len(a)):  # альтернативная метода\n",
    "    print(a[i], end=\" \")\n",
    "    \n",
    "print()\n",
    "print(list(range(10, 1,-3)))  # конвертирует генератор (что это?) range в массив и выводит; пока, НУО можно считать,\n",
    "                              # что range выдаёт набор элементов, называемых почему-то генератор, по которым можно\n",
    "                              # итерироваться, если ему задан всего 1 аргумент, он генерит числа от 0 до значения\n",
    "                              # аргумента с шагом 1, иначе 1 -- от, 2 --до, 3 (опциональный) -- шаг"
   ]
  },
  {
   "cell_type": "markdown",
   "id": "d67c8f6a",
   "metadata": {},
   "source": [
    "Как в bash, в python может итерироваться по всему, что имеет какие-то элементы и является итерируемым, то есть имеет функцию (python &ndash; ООЯП, следовательно всё &ndash; объекты) `__iter__`, возвращающую итератор и/или `__next__`, возвращающую следующий элемент."
   ]
  },
  {
   "cell_type": "code",
   "execution_count": null,
   "id": "c2db0166",
   "metadata": {},
   "outputs": [],
   "source": [
    "for i in \"I am Seva!\":\n",
    "    print(\"Char is %s\" % (i,))"
   ]
  },
  {
   "cell_type": "markdown",
   "id": "715a36d4",
   "metadata": {},
   "source": [
    "Как в любом языке, в питоне есть тип, содержащий единственный элемент &ndash; \"ничто\": `None`."
   ]
  },
  {
   "cell_type": "markdown",
   "id": "d1066d58",
   "metadata": {},
   "source": [
    "#### Проверка корректности\n",
    "\n",
    "1. Напишите программу, которая возвращает порядок первой значащей цифры числа. *\n",
    "\n",
    "\n",
    "2. Напишите программу, раскладывающую числа на простые сомножители.\n",
    "\n",
    "\n",
    "3. Программа загадывает случайное число от 1 до 100, а игрок пытается отгадать число, загаданное программой, вводя свои числа. Программа говорит ему больше его число загаданного или меньше. Когда число угадывается, выводится сообщение о победе и число ходов, которое потребовалось на отгадку. Предусмотрите возможность выйти из игры, если игроку надоест гадать."
   ]
  },
  {
   "cell_type": "markdown",
   "id": "1e5252c0",
   "metadata": {},
   "source": [
    "## Структуры и сложные типы данных"
   ]
  },
  {
   "cell_type": "markdown",
   "id": "230b8fe0",
   "metadata": {},
   "source": [
    "### Массив ли?\n",
    "\n",
    "В python есть массивы. В библиотеке X) Но вы ими почти никогда не будете пользоваться... если только это не numpy array, но это тема для совсем другого разговора... А вот что есть в python, так это списки. `[] == list()`. Список &ndash; структура данных, в которой есть ссылка на следующий и предидущий элемент, что позволяет легко выделять память под новые элементы, так как достаточно взять любое свободное место и обновить ссылку в предидущем элементе. При этом список может хранить разнородные типы данных. Индексация работает так же как и в обычном массиве."
   ]
  },
  {
   "cell_type": "code",
   "execution_count": null,
   "id": "d6ee7e8c",
   "metadata": {},
   "outputs": [],
   "source": [
    "a = [1,2,3,4,5,6,7]\n",
    "a.append(\"apple\")    # добавляет элемент в массив\n",
    "print(a[0])          # выводит 1 элемент\n",
    "print(a[-1])         # выводит последний элемент\n",
    "print(a[:3])         # выводит элементы с 1 по 3, это называется слайс (~ отрезанный кусок)\n",
    "print(a[-1::-1])     # выводит массив в обратном порядке (с элемента -1 до начала с шагом -1)\n",
    "a[2:4] = [1,2]       # заменили пару элементов\n",
    "print(a)\n",
    "\n",
    "a.pop(3)             # удаляет 4 элемент\n",
    "print(a)\n",
    "\n",
    "print([1, 2] * 3)    # размножает массив"
   ]
  },
  {
   "cell_type": "markdown",
   "id": "513a12ed",
   "metadata": {},
   "source": [
    "### Строки\n",
    "\n",
    "Что общего между массивом и строкой? &ndash; У обоих есть длина, причём, тут это не свойство, а внешняя функция, которая на вход принимает все объекты, имеющие встроенный метод `__len__`."
   ]
  },
  {
   "cell_type": "code",
   "execution_count": null,
   "id": "87d5307b",
   "metadata": {},
   "outputs": [],
   "source": [
    "a = \"Hello World!\"\n",
    "print(len(a))\n",
    "print(a[3:-1:2])                                             # строка тоже поддерживает слайсы!\n",
    "print(\"Заело! \" * 6)\n",
    "\n",
    "print(\"https://klh.thebest.com/timetables/2024\".split(\"/\"))  # разбивает строку на части по делиметру (как awk)\n",
    "\n",
    "print(\"my-password-123\".isalnum())                           # ну и по мелочи, приведение регистров, проверки и т.д.\n",
    "print(\"I HaVe PROblems WItH CasE!\".upper())\n",
    "print(\"I HaVe PROblems WItH CasE!\".lower())"
   ]
  },
  {
   "cell_type": "markdown",
   "id": "ad064891",
   "metadata": {},
   "source": [
    "Бывает полезным порешать вопрос с наличием элемента в `_` и его индексом. Кстати, `_` &ndash; реальное имя переменной в python, как правило используется для данных, которыми не планируется пользоваться в дальнейшем в духе `for _ in range(5): print(\"Waiting\")`. Но здесь она просто обозначает, что написанное дальше сработает для целого ряда объектов, имеющих метод `__contains__`:"
   ]
  },
  {
   "cell_type": "code",
   "execution_count": null,
   "id": "baac50e0",
   "metadata": {},
   "outputs": [],
   "source": [
    "if 3 in [1,2,4,5]:\n",
    "    print(\"hmm...\")\n",
    "else:\n",
    "    print(\"It's python, baby!\")\n",
    "    \n",
    "if \"KLH\" in \"Klh is the capital of great Britain\".upper():\n",
    "    print(\"Yes, it does!\")\n",
    "else:\n",
    "    print(\"Oops...\")"
   ]
  },
  {
   "cell_type": "markdown",
   "id": "be4910a5",
   "metadata": {},
   "source": [
    "К слову о поиске истины:"
   ]
  },
  {
   "cell_type": "code",
   "execution_count": null,
   "id": "e1add322",
   "metadata": {
    "scrolled": true
   },
   "outputs": [],
   "source": [
    "season_meta = \"Season number 47 has yet been unknown\"\n",
    "\n",
    "print(season_meta.find(\"KLH\"))\n",
    "\n",
    "start_index = season_meta.find(\"number\")\n",
    "\n",
    "print(\"Is number: <num>?\".replace(\"<num>\", season_meta[start_index + len(\"number\") + 1:].split()[0]))  \n",
    "# split по пробелам, replace заменяет <num>, как будто это sed\n",
    "\n",
    "season_numbers = [1,35,46,52,80]\n",
    "print(season_numbers.index(46))\n",
    "print(season_numbers.index(47))"
   ]
  },
  {
   "cell_type": "markdown",
   "id": "b0238553",
   "metadata": {},
   "source": [
    "Из других полезных структур данных:"
   ]
  },
  {
   "cell_type": "code",
   "execution_count": null,
   "id": "b9c1778b",
   "metadata": {},
   "outputs": [],
   "source": [
    "a = set([1, 2, 3, 4])  # конвертируем массив в множество\n",
    "b = {1 ,5 , 3, 6}      # задаём множество\n",
    "\n",
    "a.add(7)               # добавляем элемент\n",
    "\n",
    "print(a.union(b))\n",
    "print(a-b)\n",
    "print(a.intersection(b))\n",
    "\n",
    "b.update(a)            # объединяем множества и записываем результат в b\n",
    "\n",
    "print(b)\n",
    "\n",
    "# set: итерируем, неиндексируем (нельзя применять слайсы)"
   ]
  },
  {
   "cell_type": "code",
   "execution_count": null,
   "id": "e42b71b2",
   "metadata": {
    "scrolled": true
   },
   "outputs": [],
   "source": [
    "a = dict()  # словарь: массив, только вместо индексов любые объекты (как правило строки)\n",
    "\n",
    "colors = {\"RED\": \"#FF0000\", \"GREEN\": \"#00FF00\", \"BLUE\": \"#0000FF\"}\n",
    "\n",
    "a = str(input(\"Введите цвет: \"))\n",
    "\n",
    "a = a.upper()\n",
    "\n",
    "if a in colors.keys():  # возвращает множество (set) всех \"ключей\" (индексов) словаря\n",
    "    print(\"Номер цвета: %s\\n\" % colors[a])\n",
    "else:\n",
    "    print(\"Нет такого цвета!\\n\")\n",
    "\n",
    "colors.update({\"MAGENTA\": \"#FF00FF\", \"PEARL\": \"#FFFFFF\"})  # добавляет в словарь значения\n",
    "print(colors)\n",
    "\n",
    "colors.pop(\"PEARL\", None)  # удалет значения из словаря по ключу, если ключа нет, ничего не делает\n",
    "print(colors)"
   ]
  },
  {
   "cell_type": "markdown",
   "id": "a186c5e1",
   "metadata": {},
   "source": [
    "## Задачи I\n",
    "\n",
    "1. Создайте двумерный массив\n",
    "\n",
    "   |   |   |   |   |\n",
    "   | --- | --- | --- | --- |\n",
    "   | 1 | 2 | 3 | 4 |\n",
    "   | 2 | 4 | 6 | 8 |\n",
    "   | 4 | 8 | 12 | 16 |\n",
    "   \n",
    "   Транспонируйте его и выведите элементы побочной диагонали справа налево. \n",
    "   \n",
    "\n",
    "2. Напишите программу, которая подсчитывает сколько раз в строке встречается каждая буква и выводит буквы, от наиболее частых к наиболее редким.\n"
   ]
  },
  {
   "cell_type": "markdown",
   "id": "f98ce6c5",
   "metadata": {},
   "source": [
    "## Задачи II\n",
    "\n",
    "1. Напишите программу, которая умеет зашифровывать и расшифровывать послания шифром цезаря.\n",
    "   \n",
    "\n",
    "2. Напишите программу, которая принимает на вход число n и генерирует массив-спиральку размера nxn:\n",
    "\n",
    "   |   |   |   |\n",
    "   | --- | --- | --- |\n",
    "   | 1 | 2 | 3 |\n",
    "   | 8 | 9 | 4 |\n",
    "   | 7 | 6 | 5 |\n",
    "  \n",
    "  \n",
    "3. Напишите программу, которая реализует функционал функции split."
   ]
  },
  {
   "cell_type": "markdown",
   "id": "48582e09",
   "metadata": {},
   "source": [
    "### Комментарий\n",
    "\n",
    "Команда, успевшая задачи I.2, II.1 и II.2 получает (+)"
   ]
  }
 ],
 "metadata": {
  "kernelspec": {
   "display_name": "Python 3 (ipykernel)",
   "language": "python",
   "name": "python3"
  },
  "language_info": {
   "codemirror_mode": {
    "name": "ipython",
    "version": 3
   },
   "file_extension": ".py",
   "mimetype": "text/x-python",
   "name": "python",
   "nbconvert_exporter": "python",
   "pygments_lexer": "ipython3",
   "version": "3.7.9"
  }
 },
 "nbformat": 4,
 "nbformat_minor": 5
}
